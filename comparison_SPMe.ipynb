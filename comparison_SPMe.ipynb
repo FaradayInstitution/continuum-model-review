{
 "cells": [
  {
   "cell_type": "code",
   "execution_count": 1,
   "metadata": {},
   "outputs": [],
   "source": [
    "import pybamm\n",
    "import numpy as np"
   ]
  },
  {
   "cell_type": "code",
   "execution_count": 2,
   "metadata": {},
   "outputs": [],
   "source": [
    "models = [\n",
    "    pybamm.lithium_ion.SPMe(name=\"Marquis et al. 2019\"),\n",
    "    pybamm.lithium_ion.SPMe(options={\"electrolyte conductivity\": \"integrated\"}, name=\"Richardson et al. 2020\"),\n",
    "    pybamm.lithium_ion.DFN(),\n",
    "]"
   ]
  },
  {
   "cell_type": "code",
   "execution_count": 3,
   "metadata": {},
   "outputs": [],
   "source": [
    "param = pybamm.ParameterValues(chemistry=pybamm.parameter_sets.Chen2020)"
   ]
  },
  {
   "cell_type": "code",
   "execution_count": 4,
   "metadata": {},
   "outputs": [
    {
     "name": "stderr",
     "output_type": "stream",
     "text": [
      "psetup failed: .../casadi/interfaces/sundials/idas_interface.cpp:827: Calculating Jacobian failed\n",
      "psetup failed: .../casadi/interfaces/sundials/idas_interface.cpp:827: Calculating Jacobian failed\n",
      "psetup failed: .../casadi/interfaces/sundials/idas_interface.cpp:827: Calculating Jacobian failed\n",
      "psetup failed: .../casadi/interfaces/sundials/idas_interface.cpp:827: Calculating Jacobian failed\n",
      "psetup failed: .../casadi/interfaces/sundials/idas_interface.cpp:827: Calculating Jacobian failed\n",
      "psetup failed: .../casadi/interfaces/sundials/idas_interface.cpp:827: Calculating Jacobian failed\n",
      "psetup failed: .../casadi/interfaces/sundials/idas_interface.cpp:827: Calculating Jacobian failed\n",
      "psetup failed: .../casadi/interfaces/sundials/idas_interface.cpp:827: Calculating Jacobian failed\n",
      "psetup failed: .../casadi/interfaces/sundials/idas_interface.cpp:827: Calculating Jacobian failed\n",
      "psetup failed: .../casadi/interfaces/sundials/idas_interface.cpp:827: Calculating Jacobian failed\n",
      "psetup failed: .../casadi/interfaces/sundials/idas_interface.cpp:827: Calculating Jacobian failed\n",
      "psetup failed: .../casadi/interfaces/sundials/idas_interface.cpp:827: Calculating Jacobian failed\n",
      "psetup failed: .../casadi/interfaces/sundials/idas_interface.cpp:827: Calculating Jacobian failed\n",
      "psetup failed: .../casadi/interfaces/sundials/idas_interface.cpp:827: Calculating Jacobian failed\n",
      "psetup failed: .../casadi/interfaces/sundials/idas_interface.cpp:827: Calculating Jacobian failed\n",
      "psetup failed: .../casadi/interfaces/sundials/idas_interface.cpp:827: Calculating Jacobian failed\n",
      "psetup failed: .../casadi/interfaces/sundials/idas_interface.cpp:827: Calculating Jacobian failed\n",
      "psetup failed: .../casadi/interfaces/sundials/idas_interface.cpp:827: Calculating Jacobian failed\n",
      "psetup failed: .../casadi/interfaces/sundials/idas_interface.cpp:827: Calculating Jacobian failed\n",
      "psetup failed: .../casadi/interfaces/sundials/idas_interface.cpp:827: Calculating Jacobian failed\n",
      "psetup failed: .../casadi/interfaces/sundials/idas_interface.cpp:827: Calculating Jacobian failed\n",
      "psetup failed: .../casadi/interfaces/sundials/idas_interface.cpp:827: Calculating Jacobian failed\n",
      "psetup failed: .../casadi/interfaces/sundials/idas_interface.cpp:827: Calculating Jacobian failed\n",
      "psetup failed: .../casadi/interfaces/sundials/idas_interface.cpp:827: Calculating Jacobian failed\n",
      "psetup failed: .../casadi/interfaces/sundials/idas_interface.cpp:827: Calculating Jacobian failed\n",
      "psetup failed: .../casadi/interfaces/sundials/idas_interface.cpp:827: Calculating Jacobian failed\n",
      "psetup failed: .../casadi/interfaces/sundials/idas_interface.cpp:827: Calculating Jacobian failed\n",
      "psetup failed: .../casadi/interfaces/sundials/idas_interface.cpp:827: Calculating Jacobian failed\n",
      "psetup failed: .../casadi/interfaces/sundials/idas_interface.cpp:827: Calculating Jacobian failed\n",
      "psetup failed: .../casadi/interfaces/sundials/idas_interface.cpp:827: Calculating Jacobian failed\n",
      "psetup failed: .../casadi/interfaces/sundials/idas_interface.cpp:827: Calculating Jacobian failed\n",
      "psetup failed: .../casadi/interfaces/sundials/idas_interface.cpp:827: Calculating Jacobian failed\n",
      "psetup failed: .../casadi/interfaces/sundials/idas_interface.cpp:827: Calculating Jacobian failed\n",
      "psetup failed: .../casadi/interfaces/sundials/idas_interface.cpp:827: Calculating Jacobian failed\n",
      "psetup failed: .../casadi/interfaces/sundials/idas_interface.cpp:827: Calculating Jacobian failed\n",
      "psetup failed: .../casadi/interfaces/sundials/idas_interface.cpp:827: Calculating Jacobian failed\n",
      "psetup failed: .../casadi/interfaces/sundials/idas_interface.cpp:827: Calculating Jacobian failed\n",
      "psetup failed: .../casadi/interfaces/sundials/idas_interface.cpp:827: Calculating Jacobian failed\n",
      "psetup failed: .../casadi/interfaces/sundials/idas_interface.cpp:827: Calculating Jacobian failed\n",
      "psetup failed: .../casadi/interfaces/sundials/idas_interface.cpp:827: Calculating Jacobian failed\n",
      "psetup failed: .../casadi/interfaces/sundials/idas_interface.cpp:827: Calculating Jacobian failed\n",
      "psetup failed: .../casadi/interfaces/sundials/idas_interface.cpp:827: Calculating Jacobian failed\n",
      "psetup failed: .../casadi/interfaces/sundials/idas_interface.cpp:827: Calculating Jacobian failed\n",
      "psetup failed: .../casadi/interfaces/sundials/idas_interface.cpp:827: Calculating Jacobian failed\n",
      "At t = 0.150487, , mxstep steps taken before reaching tout.\n"
     ]
    }
   ],
   "source": [
    "sims = []\n",
    "C_rate = 2.1\n",
    "for model in models:\n",
    "    sim = pybamm.Simulation(model, parameter_values=param, C_rate=C_rate)\n",
    "    sim.solve([0, 3700 / C_rate])\n",
    "    sims.append(sim)"
   ]
  },
  {
   "cell_type": "code",
   "execution_count": 5,
   "metadata": {},
   "outputs": [
    {
     "data": {
      "application/vnd.jupyter.widget-view+json": {
       "model_id": "6160b4d5ebd541de8d1d9697a4911a85",
       "version_major": 2,
       "version_minor": 0
      },
      "text/plain": [
       "interactive(children=(FloatSlider(value=0.0, description='t', max=1619.5286195286194, step=16.195286195286194)…"
      ]
     },
     "metadata": {},
     "output_type": "display_data"
    }
   ],
   "source": [
    "plot = pybamm.dynamic_plot(sims, time_unit=\"seconds\")"
   ]
  },
  {
   "cell_type": "code",
   "execution_count": 6,
   "metadata": {},
   "outputs": [
    {
     "data": {
      "application/vnd.jupyter.widget-view+json": {
       "model_id": "6074c437fcf34bb084b2a4b46104b279",
       "version_major": 2,
       "version_minor": 0
      },
      "text/plain": [
       "interactive(children=(FloatSlider(value=0.0, description='t', max=1619.5286195286194, step=16.195286195286194)…"
      ]
     },
     "metadata": {},
     "output_type": "display_data"
    }
   ],
   "source": [
    "plot = pybamm.dynamic_plot(sims, output_variables=[\"Terminal voltage [V]\"], time_unit=\"seconds\")"
   ]
  },
  {
   "cell_type": "code",
   "execution_count": 7,
   "metadata": {},
   "outputs": [],
   "source": [
    "voltage_Marquis = sims[0][\"Terminal voltage [V]\"].entries\n",
    "voltage_Richardson = sims[1][\"Terminal voltage [V]\"].entries\n",
    "voltage_DFN = sims[2][\"Terminal voltage [V]\"].entries\n",
    "error_Marquis = np.linalg.norm(voltage_Marquis - voltage_DFN)\n",
    "error_Richardson = np.linalg.norm(voltage_Richardson - voltage_DFN)"
   ]
  },
  {
   "cell_type": "code",
   "execution_count": 8,
   "metadata": {},
   "outputs": [
    {
     "name": "stdout",
     "output_type": "stream",
     "text": [
      "Error Marquis: 0.337354\n",
      "Error Richardson: 0.292885\n"
     ]
    }
   ],
   "source": [
    "print(\"Error Marquis: {:.6f}\".format(error_Marquis))\n",
    "print(\"Error Richardson: {:.6f}\".format(error_Richardson))"
   ]
  },
  {
   "cell_type": "code",
   "execution_count": null,
   "metadata": {},
   "outputs": [],
   "source": []
  }
 ],
 "metadata": {
  "kernelspec": {
   "display_name": "Python (cont-review)",
   "language": "python",
   "name": "env"
  },
  "language_info": {
   "codemirror_mode": {
    "name": "ipython",
    "version": 3
   },
   "file_extension": ".py",
   "mimetype": "text/x-python",
   "name": "python",
   "nbconvert_exporter": "python",
   "pygments_lexer": "ipython3",
   "version": "3.7.4"
  }
 },
 "nbformat": 4,
 "nbformat_minor": 4
}
