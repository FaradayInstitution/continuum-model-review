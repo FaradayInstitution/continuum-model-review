{
 "cells": [
  {
   "cell_type": "code",
   "execution_count": 1,
   "metadata": {},
   "outputs": [],
   "source": [
    "import pybamm"
   ]
  },
  {
   "cell_type": "code",
   "execution_count": 2,
   "metadata": {},
   "outputs": [],
   "source": [
    "model = pybamm.lithium_ion.SPM()"
   ]
  },
  {
   "cell_type": "code",
   "execution_count": 3,
   "metadata": {},
   "outputs": [],
   "source": [
    "param = pybamm.ParameterValues(chemistry=pybamm.parameter_sets.Chen2020)\n",
    "experiment = pybamm.Experiment(\n",
    "    [\n",
    "        \"Discharge at 1C until 2.5 V\",\n",
    "        \"Rest for 2 hours\",\n",
    "#         \"Charge at C/3 until 4.2 V\",\n",
    "#         \"Charge at 4.2 V until 5 mA\",\n",
    "    ]\n",
    ")"
   ]
  },
  {
   "cell_type": "code",
   "execution_count": 4,
   "metadata": {},
   "outputs": [
    {
     "name": "stderr",
     "output_type": "stream",
     "text": [
      "2020-08-19 17:47:56,173 - [WARNING] simulation.solve(410): Ignoring t_eval as solution times are specified by the experiment\n"
     ]
    },
    {
     "data": {
      "text/plain": [
       "<pybamm.solvers.solution.Solution at 0x7fe0049cea20>"
      ]
     },
     "execution_count": 4,
     "metadata": {},
     "output_type": "execute_result"
    }
   ],
   "source": [
    "sim = pybamm.Simulation(model, parameter_values=param, experiment=experiment)\n",
    "sim.solve([0, 3600])"
   ]
  },
  {
   "cell_type": "code",
   "execution_count": 5,
   "metadata": {},
   "outputs": [
    {
     "data": {
      "application/vnd.jupyter.widget-view+json": {
       "model_id": "0e26ad703397467d98c8926936118aba",
       "version_major": 2,
       "version_minor": 0
      },
      "text/plain": [
       "interactive(children=(FloatSlider(value=0.0, description='t', max=2.9867809263231457, step=0.02986780926323145…"
      ]
     },
     "metadata": {},
     "output_type": "display_data"
    }
   ],
   "source": [
    "var_plt = [\n",
    "    \"Negative particle surface concentration [mol.m-3]\",\n",
    "    \"Electrolyte concentration [mol.m-3]\",\n",
    "    \"Positive particle surface concentration [mol.m-3]\",\n",
    "    \"Current [A]\",\n",
    "    \"Negative electrode potential [V]\",\n",
    "    \"Electrolyte potential [V]\",\n",
    "    \"Positive electrode potential [V]\",\n",
    "    [\"Terminal voltage [V]\", \"X-averaged positive electrode open circuit potential [V]\"]\n",
    "]\n",
    "sim.plot(var_plt)"
   ]
  },
  {
   "cell_type": "code",
   "execution_count": 7,
   "metadata": {},
   "outputs": [
    {
     "data": {
      "application/vnd.jupyter.widget-view+json": {
       "model_id": "cf73001dc794405daf0b34b9e18f3f24",
       "version_major": 2,
       "version_minor": 0
      },
      "text/plain": [
       "interactive(children=(FloatSlider(value=0.0, description='t', max=10752.411334763325, step=107.52411334763325)…"
      ]
     },
     "metadata": {},
     "output_type": "display_data"
    }
   ],
   "source": [
    "var_plt = [\n",
    "    \"Negative particle surface concentration [mol.m-3]\",\n",
    "    \"Electrolyte concentration [mol.m-3]\",\n",
    "    \"Positive particle surface concentration [mol.m-3]\",\n",
    "    \"Negative electrode potential [V]\",\n",
    "    \"Electrolyte potential [V]\",\n",
    "    \"Positive electrode potential [V]\",\n",
    "]\n",
    "plot_internal = pybamm.dynamic_plot(sim.solution, output_variables=var_plt, time_unit=\"seconds\")\n",
    "plot_internal.fig.savefig(\"SPM_internal.png\", dpi=300)"
   ]
  },
  {
   "cell_type": "code",
   "execution_count": 8,
   "metadata": {},
   "outputs": [
    {
     "data": {
      "application/vnd.jupyter.widget-view+json": {
       "model_id": "8ed8eca009554db4a63b30b208572255",
       "version_major": 2,
       "version_minor": 0
      },
      "text/plain": [
       "interactive(children=(FloatSlider(value=0.0, description='t', max=2.9867809263231457, step=0.02986780926323145…"
      ]
     },
     "metadata": {},
     "output_type": "display_data"
    }
   ],
   "source": [
    "plot_V = pybamm.dynamic_plot(sim.solution, output_variables=[\"Current [A]\", [\"Terminal voltage [V]\", \"X-averaged positive electrode open circuit potential [V]\"]])\n",
    "plot_V.fig.savefig(\"SPM_V.png\", dpi=300)"
   ]
  },
  {
   "cell_type": "code",
   "execution_count": null,
   "metadata": {},
   "outputs": [],
   "source": []
  }
 ],
 "metadata": {
  "kernelspec": {
   "display_name": "Python 3.6.8 64-bit ('env': venv)",
   "language": "python",
   "name": "python36864bitenvvenv5ea2ccec530a4aaca5e06dd454528f6d"
  },
  "language_info": {
   "codemirror_mode": {
    "name": "ipython",
    "version": 3
   },
   "file_extension": ".py",
   "mimetype": "text/x-python",
   "name": "python",
   "nbconvert_exporter": "python",
   "pygments_lexer": "ipython3",
   "version": "3.6.8"
  }
 },
 "nbformat": 4,
 "nbformat_minor": 4
}
