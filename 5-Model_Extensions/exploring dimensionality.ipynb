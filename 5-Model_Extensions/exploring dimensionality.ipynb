{
 "cells": [
  {
   "cell_type": "markdown",
   "metadata": {},
   "source": [
    "## Model dimensionality\n",
    "PyBaMM currently supports three types of model dimensions for the current collectors: 0D, 1D and 2D. These can be configured using the \"dimensionality\" model option."
   ]
  },
  {
   "cell_type": "code",
   "execution_count": 1,
   "metadata": {},
   "outputs": [
    {
     "name": "stderr",
     "output_type": "stream",
     "text": [
      "ERROR: Invalid requirement: '#'\n"
     ]
    },
    {
     "name": "stdout",
     "output_type": "stream",
     "text": [
      "Note: you may need to restart the kernel to use updated packages.\n"
     ]
    }
   ],
   "source": [
    "%pip install pybamm -q    # install PyBaMM if it is not installed\n",
    "import pybamm\n",
    "import os\n",
    "import numpy as np\n",
    "import matplotlib.pyplot as plt\n",
    "os.chdir(pybamm.__path__[0]+'/..')"
   ]
  },
  {
   "cell_type": "code",
   "execution_count": 2,
   "metadata": {},
   "outputs": [],
   "source": [
    "model_0D = pybamm.lithium_ion.SPMe({\"dimensionality\": 0})"
   ]
  },
  {
   "cell_type": "code",
   "execution_count": 3,
   "metadata": {},
   "outputs": [],
   "source": [
    "param = pybamm.ParameterValues(chemistry=pybamm.parameter_sets.Marquis2019)\n",
    "for p in param.keys():\n",
    "    if 'heat transfer coefficient' in p:\n",
    "        param.update({p:1.0})"
   ]
  },
  {
   "cell_type": "code",
   "execution_count": 4,
   "metadata": {},
   "outputs": [
    {
     "name": "stdout",
     "output_type": "stream",
     "text": [
      "Edge heat transfer coefficient [W.m-2.K-1]\t1.0\n",
      "Negative current collector surface heat transfer coefficient [W.m-2.K-1]\t1.0\n",
      "Negative tab heat transfer coefficient [W.m-2.K-1]\t1.0\n",
      "Positive current collector surface heat transfer coefficient [W.m-2.K-1]\t1.0\n",
      "Positive tab heat transfer coefficient [W.m-2.K-1]\t1.0\n",
      "Total heat transfer coefficient [W.m-2.K-1]\t1.0\n"
     ]
    }
   ],
   "source": [
    "param.search('heat transfer coefficient')"
   ]
  },
  {
   "cell_type": "code",
   "execution_count": 5,
   "metadata": {},
   "outputs": [
    {
     "data": {
      "text/plain": [
       "<pybamm.solvers.solution.Solution at 0x1eb38b13970>"
      ]
     },
     "execution_count": 5,
     "metadata": {},
     "output_type": "execute_result"
    }
   ],
   "source": [
    "sim_0D = pybamm.Simulation(model_0D, parameter_values=param)\n",
    "sim_0D.solve([0, 3600])"
   ]
  },
  {
   "cell_type": "code",
   "execution_count": 6,
   "metadata": {},
   "outputs": [
    {
     "data": {
      "application/vnd.jupyter.widget-view+json": {
       "model_id": "fb44f2e7131c4c8aa78817e8dc539e78",
       "version_major": 2,
       "version_minor": 0
      },
      "text/plain": [
       "interactive(children=(FloatSlider(value=0.0, description='t', max=1.0, step=0.01), Output()), _dom_classes=('w…"
      ]
     },
     "metadata": {},
     "output_type": "display_data"
    },
    {
     "data": {
      "text/plain": [
       "<pybamm.plotting.quick_plot.QuickPlot at 0x1eb37433520>"
      ]
     },
     "execution_count": 6,
     "metadata": {},
     "output_type": "execute_result"
    }
   ],
   "source": [
    "sim_0D.plot()"
   ]
  },
  {
   "cell_type": "markdown",
   "metadata": {},
   "source": [
    "The default dimensionality for the current collectors is 0 but has been specified above for demonstration purposes. With this option the Ohmic losses in the current collectors are assumed to be negligible meaning that the entire current collector is held at the same potential. This may be a good approximation for smaller pouch cells or even larger ones at low C-rates. However, for cells with larger aspect ratios the Ohmic losses in the current collectors become more important and regions of the cell may discharge or charge at different rates depending on their proximity to a tab. "
   ]
  },
  {
   "cell_type": "code",
   "execution_count": 7,
   "metadata": {},
   "outputs": [
    {
     "data": {
      "application/vnd.jupyter.widget-view+json": {
       "model_id": "360f86c110e244ccbbd0c59383cc7592",
       "version_major": 2,
       "version_minor": 0
      },
      "text/plain": [
       "interactive(children=(FloatSlider(value=0.0, description='t', max=1.0, step=0.01), Output()), _dom_classes=('w…"
      ]
     },
     "metadata": {},
     "output_type": "display_data"
    },
    {
     "data": {
      "text/plain": [
       "<pybamm.plotting.quick_plot.QuickPlot at 0x1eb3a1b3cd0>"
      ]
     },
     "execution_count": 7,
     "metadata": {},
     "output_type": "execute_result"
    }
   ],
   "source": [
    "model_1D = pybamm.lithium_ion.SPMe({\"dimensionality\": 1,\n",
    "                                    \"current collector\": \"potential pair\"})\n",
    "sim_1D = pybamm.Simulation(model_1D, parameter_values=param)\n",
    "sim_1D.solve([0, 3600])\n",
    "sim_1D.plot()"
   ]
  },
  {
   "cell_type": "markdown",
   "metadata": {},
   "source": [
    "Now we can observe the effects of dimensionality on a thermal model"
   ]
  },
  {
   "cell_type": "code",
   "execution_count": 8,
   "metadata": {},
   "outputs": [
    {
     "data": {
      "text/plain": [
       "<pybamm.solvers.solution.Solution at 0x1eb409f8250>"
      ]
     },
     "execution_count": 8,
     "metadata": {},
     "output_type": "execute_result"
    }
   ],
   "source": [
    "model_1D_lumped = pybamm.lithium_ion.SPMe({\"dimensionality\": 1,\n",
    "                                           \"current collector\": \"potential pair\",\n",
    "                                           \"thermal\": \"lumped\"})\n",
    "sim_1D_lumped = pybamm.Simulation(model_1D_lumped, parameter_values=param)\n",
    "sim_1D_lumped.solve([0, 3600])"
   ]
  },
  {
   "cell_type": "code",
   "execution_count": 9,
   "metadata": {},
   "outputs": [],
   "source": [
    "temp = sim_1D_lumped.solution[\"Cell temperature [K]\"].entries\n",
    "t_min = temp.min()\n",
    "t_max = temp.max()\n",
    "variable_limits = {\"X-averaged cell temperature [K]\": (t_min, t_max),\n",
    "                   \"Cell temperature [K]\": (t_min, t_max),\n",
    "                   \"Volume-averaged cell temperature [K]\": (t_min, t_max)}"
   ]
  },
  {
   "cell_type": "code",
   "execution_count": 10,
   "metadata": {},
   "outputs": [
    {
     "data": {
      "application/vnd.jupyter.widget-view+json": {
       "model_id": "50eede7ca7df44b3b71edf223a3d1099",
       "version_major": 2,
       "version_minor": 0
      },
      "text/plain": [
       "interactive(children=(FloatSlider(value=0.0, description='t', max=1.0, step=0.01), Output()), _dom_classes=('w…"
      ]
     },
     "metadata": {},
     "output_type": "display_data"
    },
    {
     "data": {
      "text/plain": [
       "<pybamm.plotting.quick_plot.QuickPlot at 0x1eb3ef17700>"
      ]
     },
     "execution_count": 10,
     "metadata": {},
     "output_type": "execute_result"
    }
   ],
   "source": [
    "sim_1D_lumped.plot([\n",
    "    #\"Terminal voltage [V]\",\n",
    "                    \"X-averaged cell temperature [K]\",\n",
    "                    \"Cell temperature [K]\",\n",
    "                    \"Volume-averaged cell temperature [K]\"], variable_limits=variable_limits)"
   ]
  },
  {
   "cell_type": "code",
   "execution_count": 11,
   "metadata": {},
   "outputs": [
    {
     "data": {
      "text/plain": [
       "<pybamm.solvers.solution.Solution at 0x1eb481428b0>"
      ]
     },
     "execution_count": 11,
     "metadata": {},
     "output_type": "execute_result"
    }
   ],
   "source": [
    "model_1D_x_lumped = pybamm.lithium_ion.SPMe({\"dimensionality\": 1,\n",
    "                                             \"current collector\": \"potential pair\",\n",
    "                                             \"thermal\": \"x-lumped\"})\n",
    "sim_1D_x_lumped = pybamm.Simulation(model_1D_x_lumped, parameter_values=param)\n",
    "sim_1D_x_lumped.solve([0, 3600])"
   ]
  },
  {
   "cell_type": "code",
   "execution_count": 12,
   "metadata": {},
   "outputs": [
    {
     "name": "stdout",
     "output_type": "stream",
     "text": [
      "298.15 300.16053281090683\n"
     ]
    }
   ],
   "source": [
    "temp = sim_1D_x_lumped.solution[\"Cell temperature [K]\"].entries\n",
    "t_min = temp.min()\n",
    "t_max = temp.max()\n",
    "variable_limits = {\"X-averaged cell temperature [K]\": (t_min, t_max),\n",
    "                   \"Cell temperature [K]\": (t_min, t_max),\n",
    "                   \"Volume-averaged cell temperature [K]\": (t_min, t_max)}\n",
    "print(t_min, t_max)"
   ]
  },
  {
   "cell_type": "code",
   "execution_count": 13,
   "metadata": {},
   "outputs": [
    {
     "data": {
      "text/plain": [
       "(60, 10, 100)"
      ]
     },
     "execution_count": 13,
     "metadata": {},
     "output_type": "execute_result"
    }
   ],
   "source": [
    "temp.shape"
   ]
  },
  {
   "cell_type": "code",
   "execution_count": 14,
   "metadata": {},
   "outputs": [
    {
     "data": {
      "application/vnd.jupyter.widget-view+json": {
       "model_id": "7084dd55745241f2b17f186124e7a066",
       "version_major": 2,
       "version_minor": 0
      },
      "text/plain": [
       "interactive(children=(FloatSlider(value=0.0, description='t', max=1.0, step=0.01), Output()), _dom_classes=('w…"
      ]
     },
     "metadata": {},
     "output_type": "display_data"
    },
    {
     "data": {
      "text/plain": [
       "<pybamm.plotting.quick_plot.QuickPlot at 0x1eb48142b20>"
      ]
     },
     "execution_count": 14,
     "metadata": {},
     "output_type": "execute_result"
    }
   ],
   "source": [
    "sim_1D_x_lumped.plot([\"X-averaged cell temperature [K]\",\n",
    "                      \"Cell temperature [K]\",\n",
    "                      \"Volume-averaged cell temperature [K]\"],\n",
    "                     #variable_limits=variable_limits,\n",
    "                     variable_limits='tight',\n",
    "                    )"
   ]
  },
  {
   "cell_type": "code",
   "execution_count": 15,
   "metadata": {},
   "outputs": [
    {
     "data": {
      "text/plain": [
       "<pybamm.solvers.solution.Solution at 0x1eb4d92f8b0>"
      ]
     },
     "execution_count": 15,
     "metadata": {},
     "output_type": "execute_result"
    }
   ],
   "source": [
    "model_2D = pybamm.lithium_ion.SPMe({\"dimensionality\": 2,\n",
    "                                    \"current collector\": \"potential pair\"})\n",
    "sim_2D = pybamm.Simulation(model_2D, parameter_values=param)\n",
    "sim_2D.solve([0, 3600])"
   ]
  },
  {
   "cell_type": "code",
   "execution_count": 16,
   "metadata": {},
   "outputs": [
    {
     "data": {
      "application/vnd.jupyter.widget-view+json": {
       "model_id": "4871f2b8c8cf444a9236cc2f12e0d981",
       "version_major": 2,
       "version_minor": 0
      },
      "text/plain": [
       "interactive(children=(FloatSlider(value=0.0, description='t', max=1.0, step=0.01), Output()), _dom_classes=('w…"
      ]
     },
     "metadata": {},
     "output_type": "display_data"
    },
    {
     "data": {
      "text/plain": [
       "<pybamm.plotting.quick_plot.QuickPlot at 0x1eb4d92fbb0>"
      ]
     },
     "execution_count": 16,
     "metadata": {},
     "output_type": "execute_result"
    }
   ],
   "source": [
    "sim_2D.plot([\"Negative current collector potential [V]\",\n",
    "             \"Positive current collector potential [V]\"], variable_limits=\"tight\")"
   ]
  },
  {
   "cell_type": "code",
   "execution_count": 17,
   "metadata": {},
   "outputs": [
    {
     "data": {
      "application/vnd.jupyter.widget-view+json": {
       "model_id": "9bad83233a904093b31b0f34b892ec47",
       "version_major": 2,
       "version_minor": 0
      },
      "text/plain": [
       "interactive(children=(FloatSlider(value=0.0, description='t', max=1.0, step=0.01), Output()), _dom_classes=('w…"
      ]
     },
     "metadata": {},
     "output_type": "display_data"
    },
    {
     "data": {
      "text/plain": [
       "<pybamm.plotting.quick_plot.QuickPlot at 0x1eb50137ca0>"
      ]
     },
     "execution_count": 17,
     "metadata": {},
     "output_type": "execute_result"
    }
   ],
   "source": [
    "sim_2D.plot([\"Current collector current density [A.m-2]\",\n",
    "            \"Local voltage [V]\"], variable_limits=\"tight\")"
   ]
  },
  {
   "cell_type": "code",
   "execution_count": 18,
   "metadata": {},
   "outputs": [
    {
     "name": "stdout",
     "output_type": "stream",
     "text": [
      "Initial inner SEI thickness [m]\t2.5e-09\n",
      "Initial outer SEI thickness [m]\t2.5e-09\n",
      "Negative current collector thickness [m]\t2.5e-05\n",
      "Negative electrode thickness [m]\t0.0001\n",
      "Positive current collector thickness [m]\t2.5e-05\n",
      "Positive electrode thickness [m]\t0.0001\n",
      "Separator thickness [m]\t2.5e-05\n"
     ]
    }
   ],
   "source": [
    "param.search('thickness')"
   ]
  },
  {
   "cell_type": "code",
   "execution_count": 19,
   "metadata": {},
   "outputs": [
    {
     "name": "stdout",
     "output_type": "stream",
     "text": [
      "Electrolyte conductivity [S.m-1]\t<function electrolyte_conductivity_Capiglia1999 at 0x000001EB37203F70>\n",
      "Inner SEI electron conductivity [S.m-1]\t8.95e-14\n",
      "Negative current collector conductivity [S.m-1]\t59600000.0\n",
      "Negative current collector thermal conductivity [W.m-1.K-1]\t401.0\n",
      "Negative electrode conductivity [S.m-1]\t100.0\n",
      "Negative electrode thermal conductivity [W.m-1.K-1]\t1.7\n",
      "Positive current collector conductivity [S.m-1]\t35500000.0\n",
      "Positive current collector thermal conductivity [W.m-1.K-1]\t237.0\n",
      "Positive electrode conductivity [S.m-1]\t10.0\n",
      "Positive electrode thermal conductivity [W.m-1.K-1]\t2.1\n",
      "Separator thermal conductivity [W.m-1.K-1]\t0.16\n"
     ]
    }
   ],
   "source": [
    "param.search('conductivity')"
   ]
  },
  {
   "cell_type": "code",
   "execution_count": 20,
   "metadata": {},
   "outputs": [
    {
     "name": "stdout",
     "output_type": "stream",
     "text": [
      "Edge heat transfer coefficient [W.m-2.K-1]\t1.0\n",
      "Negative current collector surface heat transfer coefficient [W.m-2.K-1]\t1.0\n",
      "Negative electrode charge transfer coefficient\t0.5\n",
      "Negative tab heat transfer coefficient [W.m-2.K-1]\t1.0\n",
      "Positive current collector surface heat transfer coefficient [W.m-2.K-1]\t1.0\n",
      "Positive electrode charge transfer coefficient\t0.5\n",
      "Positive tab heat transfer coefficient [W.m-2.K-1]\t1.0\n",
      "Total heat transfer coefficient [W.m-2.K-1]\t1.0\n"
     ]
    }
   ],
   "source": [
    "param.search('transfer coefficient')"
   ]
  },
  {
   "cell_type": "code",
   "execution_count": 21,
   "metadata": {},
   "outputs": [
    {
     "data": {
      "application/vnd.jupyter.widget-view+json": {
       "model_id": "4c96fd49f93a4e6b9716e50ca28cce01",
       "version_major": 2,
       "version_minor": 0
      },
      "text/plain": [
       "interactive(children=(FloatSlider(value=0.0, description='t', max=1.0, step=0.01), Output()), _dom_classes=('w…"
      ]
     },
     "metadata": {},
     "output_type": "display_data"
    },
    {
     "data": {
      "text/plain": [
       "<pybamm.plotting.quick_plot.QuickPlot at 0x1eb50224fa0>"
      ]
     },
     "execution_count": 21,
     "metadata": {},
     "output_type": "execute_result"
    }
   ],
   "source": [
    "sim_2D.plot([\"Average negative particle concentration [mol.m-3]\",\n",
    "             \"Average positive particle concentration [mol.m-3]\"], variable_limits=\"tight\")\n"
   ]
  }
 ],
 "metadata": {
  "kernelspec": {
   "display_name": "Python 3",
   "language": "python",
   "name": "python3"
  },
  "language_info": {
   "codemirror_mode": {
    "name": "ipython",
    "version": 3
   },
   "file_extension": ".py",
   "mimetype": "text/x-python",
   "name": "python",
   "nbconvert_exporter": "python",
   "pygments_lexer": "ipython3",
   "version": "3.8.3"
  }
 },
 "nbformat": 4,
 "nbformat_minor": 4
}
